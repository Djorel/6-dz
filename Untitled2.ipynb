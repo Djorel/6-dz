{
 "cells": [
  {
   "cell_type": "code",
   "execution_count": 49,
   "metadata": {},
   "outputs": [],
   "source": [
    "import json #бибилиотека для перевода строк в словарь\n",
    "purchases = {}\n",
    "f = open('purchase_log.txt', 'r', encoding = 'utf-8')\n",
    "for line in f:\n",
    "    line = f.readline()\n",
    "    y = json.loads(line)   #перевод в словарь\n",
    "    x = y['category']\n",
    "    purchases[y['user_id']] = x  \n",
    "    \n",
    "    \n",
    "with open('visit_log.csv', 'r', encoding = 'utf-8') as f2:\n",
    "    with open('finnel.csv', 'w', encoding = 'utf-8') as finnel:\n",
    "        for line2 in f2:\n",
    "            line2 = f2.readlines()\n",
    "            category = purchases[y['user_id']]\n",
    "            #print(type(category))\n",
    "            if category in line2:\n",
    "                finnel.write(line2, x)\n",
    "                "
   ]
  },
  {
   "cell_type": "code",
   "execution_count": null,
   "metadata": {},
   "outputs": [],
   "source": []
  },
  {
   "cell_type": "code",
   "execution_count": null,
   "metadata": {},
   "outputs": [],
   "source": []
  }
 ],
 "metadata": {
  "kernelspec": {
   "display_name": "Python 3",
   "language": "python",
   "name": "python3"
  },
  "language_info": {
   "codemirror_mode": {
    "name": "ipython",
    "version": 3
   },
   "file_extension": ".py",
   "mimetype": "text/x-python",
   "name": "python",
   "nbconvert_exporter": "python",
   "pygments_lexer": "ipython3",
   "version": "3.8.3"
  }
 },
 "nbformat": 4,
 "nbformat_minor": 4
}
